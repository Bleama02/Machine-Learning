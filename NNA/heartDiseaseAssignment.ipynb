{
 "cells": [
  {
   "cell_type": "code",
   "execution_count": 29,
   "id": "fb7fb887",
   "metadata": {},
   "outputs": [
    {
     "name": "stdout",
     "output_type": "stream",
     "text": [
      "No GPU available, using CPU instead.\n",
      "Device used: cpu\n"
     ]
    }
   ],
   "source": [
    "# Import torch and neural network library:\n",
    "import torch\n",
    "import torch.nn as nn\n",
    "\n",
    "# import sklearn model_selection, StandardScaler\n",
    "from sklearn.model_selection import train_test_split\n",
    "from sklearn.preprocessing import StandardScaler\n",
    "\n",
    "# import numpy, pandas, matplotlib, seaborn\n",
    "import numpy as np\n",
    "import pandas as pd\n",
    "import matplotlib.pyplot as plt\n",
    "import seaborn as sns\n",
    "\n",
    "# Setup device either gpu or cpu\n",
    "if torch.cuda.is_available():\n",
    "    device = torch.device('cuda')\n",
    "    print(f\"There are {torch.cuda.device_count()} GPU(s) available.\")\n",
    "    print(\"Device name:\", torch.cuda.get_device_name(0))\n",
    "else:\n",
    "    device = torch.device('cpu')\n",
    "    print(\"No GPU available, using CPU instead.\")\n",
    "\n",
    "print('Device used:', device)"
   ]
  },
  {
   "cell_type": "code",
   "execution_count": 30,
   "id": "18ae5fd3",
   "metadata": {},
   "outputs": [
    {
     "name": "stdout",
     "output_type": "stream",
     "text": [
      "   male  age  education  currentSmoker  cigsPerDay  BPMeds  prevalentStroke  \\\n",
      "0     1   39        4.0              0         0.0     0.0                0   \n",
      "1     0   46        2.0              0         0.0     0.0                0   \n",
      "2     1   48        1.0              1        20.0     0.0                0   \n",
      "3     0   61        3.0              1        30.0     0.0                0   \n",
      "4     0   46        3.0              1        23.0     0.0                0   \n",
      "\n",
      "   prevalentHyp  diabetes  totChol  sysBP  diaBP    BMI  heartRate  glucose  \\\n",
      "0             0         0    195.0  106.0   70.0  26.97       80.0     77.0   \n",
      "1             0         0    250.0  121.0   81.0  28.73       95.0     76.0   \n",
      "2             0         0    245.0  127.5   80.0  25.34       75.0     70.0   \n",
      "3             1         0    225.0  150.0   95.0  28.58       65.0    103.0   \n",
      "4             0         0    285.0  130.0   84.0  23.10       85.0     85.0   \n",
      "\n",
      "   TenYearCHD  \n",
      "0           0  \n",
      "1           0  \n",
      "2           0  \n",
      "3           1  \n",
      "4           0  \n"
     ]
    }
   ],
   "source": [
    "# read the dataset framingham.csv and display the first 5 rows.\n",
    "df = pd.read_csv(\"framingham.csv\")\n",
    "\n",
    "# Display the first 5 rows\n",
    "print(df.head())"
   ]
  },
  {
   "cell_type": "code",
   "execution_count": 31,
   "id": "bbac1caf",
   "metadata": {},
   "outputs": [
    {
     "name": "stdout",
     "output_type": "stream",
     "text": [
      "\n",
      "Number of null values per column:\n",
      "male                 0\n",
      "age                  0\n",
      "education          105\n",
      "currentSmoker        0\n",
      "cigsPerDay          29\n",
      "BPMeds              53\n",
      "prevalentStroke      0\n",
      "prevalentHyp         0\n",
      "diabetes             0\n",
      "totChol             50\n",
      "sysBP                0\n",
      "diaBP                0\n",
      "BMI                 19\n",
      "heartRate            1\n",
      "glucose            388\n",
      "TenYearCHD           0\n",
      "dtype: int64\n"
     ]
    }
   ],
   "source": [
    "# display the shape, null values\n",
    "print(\"\\nNumber of null values per column:\")\n",
    "print(df.isnull().sum())"
   ]
  },
  {
   "cell_type": "code",
   "execution_count": 32,
   "id": "c16f9788",
   "metadata": {},
   "outputs": [
    {
     "name": "stdout",
     "output_type": "stream",
     "text": [
      "Null values in numerical columns filled with the mean.\n"
     ]
    },
    {
     "name": "stderr",
     "output_type": "stream",
     "text": [
      "C:\\Users\\yodab\\AppData\\Local\\Temp\\ipykernel_1652\\1093507319.py:5: FutureWarning: A value is trying to be set on a copy of a DataFrame or Series through chained assignment using an inplace method.\n",
      "The behavior will change in pandas 3.0. This inplace method will never work because the intermediate object on which we are setting values always behaves as a copy.\n",
      "\n",
      "For example, when doing 'df[col].method(value, inplace=True)', try using 'df.method({col: value}, inplace=True)' or df[col] = df[col].method(value) instead, to perform the operation inplace on the original object.\n",
      "\n",
      "\n",
      "  df[col].fillna(mean_val, inplace=True)\n"
     ]
    }
   ],
   "source": [
    "# Fill null values with either median or mean.\n",
    "numerical_cols = df.select_dtypes(include=['number']).columns\n",
    "for col in numerical_cols:\n",
    "        mean_val = df[col].mean()\n",
    "        df[col].fillna(mean_val, inplace=True)\n",
    "print(\"Null values in numerical columns filled with the mean.\")"
   ]
  },
  {
   "cell_type": "code",
   "execution_count": 33,
   "id": "92b815af",
   "metadata": {},
   "outputs": [
    {
     "name": "stdout",
     "output_type": "stream",
     "text": [
      "Shape of features (X): (4240, 15)\n",
      "Shape of target (y): (4240,)\n",
      "\n",
      "First 5 rows of features (X):\n",
      "   male  age  education  currentSmoker  cigsPerDay  BPMeds  prevalentStroke  \\\n",
      "0     1   39        4.0              0         0.0     0.0                0   \n",
      "1     0   46        2.0              0         0.0     0.0                0   \n",
      "2     1   48        1.0              1        20.0     0.0                0   \n",
      "3     0   61        3.0              1        30.0     0.0                0   \n",
      "4     0   46        3.0              1        23.0     0.0                0   \n",
      "\n",
      "   prevalentHyp  diabetes  totChol  sysBP  diaBP    BMI  heartRate  glucose  \n",
      "0             0         0    195.0  106.0   70.0  26.97       80.0     77.0  \n",
      "1             0         0    250.0  121.0   81.0  28.73       95.0     76.0  \n",
      "2             0         0    245.0  127.5   80.0  25.34       75.0     70.0  \n",
      "3             1         0    225.0  150.0   95.0  28.58       65.0    103.0  \n",
      "4             0         0    285.0  130.0   84.0  23.10       85.0     85.0  \n",
      "\n",
      "First 5 values of target (y):\n",
      "0    0\n",
      "1    0\n",
      "2    0\n",
      "3    1\n",
      "4    0\n",
      "Name: TenYearCHD, dtype: int64\n"
     ]
    }
   ],
   "source": [
    "# get the features as X and the target column as y.\n",
    "target_column = 'TenYearCHD'\n",
    "if target_column in df.columns:\n",
    "        X = df.drop(columns=[target_column])  # Features are all columns except the target\n",
    "        y = df[target_column]                 # Target variable\n",
    "\n",
    "        print(\"Shape of features (X):\", X.shape)\n",
    "        print(\"Shape of target (y):\", y.shape)\n",
    "        print(\"\\nFirst 5 rows of features (X):\")\n",
    "        print(X.head())\n",
    "        print(\"\\nFirst 5 values of target (y):\")\n",
    "        print(y.head())\n",
    "else:\n",
    "        print(f\"Error: The target column '{target_column}' was not found in the dataset.\")"
   ]
  },
  {
   "cell_type": "code",
   "execution_count": 34,
   "id": "4d698705",
   "metadata": {},
   "outputs": [],
   "source": [
    "# Split the data into train and test:\n",
    "X_train, X_test, y_train, y_test = train_test_split(X, y, test_size=0.2, random_state=42)"
   ]
  },
  {
   "cell_type": "code",
   "execution_count": 35,
   "id": "ef6ee12c",
   "metadata": {},
   "outputs": [],
   "source": [
    "# Scale the features X_train and X_test using StandardScaler\n",
    "scaler = StandardScaler()\n",
    "X_train_scaled = scaler.fit_transform(X_train)\n",
    "X_test_scaled = scaler.transform(X_test)\n",
    "# Convert the X_train, X_test, y_train, y_test to torch tensors\n",
    "X_train_tensor = torch.tensor(X_train_scaled, dtype=torch.float32)\n",
    "X_test_tensor = torch.tensor(X_test_scaled, dtype=torch.float32)\n",
    "y_train_tensor = torch.tensor(y_train.values, dtype=torch.float32).unsqueeze(1)\n",
    "y_test_tensor = torch.tensor(y_test.values, dtype=torch.float32).unsqueeze(1)"
   ]
  },
  {
   "cell_type": "code",
   "execution_count": 36,
   "id": "ca187120",
   "metadata": {},
   "outputs": [],
   "source": [
    "# Build your neural network\n",
    "class BinaryClassifier(nn.Module):\n",
    "    def __init__(self, input_dim):\n",
    "        super(BinaryClassifier, self).__init__()\n",
    "        self.fc1 = nn.Linear(input_dim, 64)\n",
    "        self.relu1 = nn.ReLU()\n",
    "        self.dropout1 = nn.Dropout(p=0.5)\n",
    "        self.fc2 = nn.Linear(64, 32)\n",
    "        self.relu2 = nn.ReLU()\n",
    "        self.dropout2 = nn.Dropout(p=0.3)\n",
    "        self.fc3 = nn.Linear(32, 1)\n",
    "        self.sigmoid = nn.Sigmoid()\n",
    "\n",
    "    def forward(self, x):\n",
    "        x = self.fc1(x)\n",
    "        x = self.relu1(x)\n",
    "        x = self.dropout1(x)\n",
    "        x = self.fc2(x)\n",
    "        x = self.relu2(x)\n",
    "        x = self.dropout2(x)\n",
    "        x = self.fc3(x)\n",
    "        x = self.sigmoid(x)\n",
    "        return x\n"
   ]
  },
  {
   "cell_type": "code",
   "execution_count": 37,
   "id": "54218298",
   "metadata": {},
   "outputs": [
    {
     "name": "stdout",
     "output_type": "stream",
     "text": [
      "Neural Network Architecture:\n",
      "BinaryClassifier(\n",
      "  (fc1): Linear(in_features=15, out_features=64, bias=True)\n",
      "  (relu1): ReLU()\n",
      "  (dropout1): Dropout(p=0.5, inplace=False)\n",
      "  (fc2): Linear(in_features=64, out_features=32, bias=True)\n",
      "  (relu2): ReLU()\n",
      "  (dropout2): Dropout(p=0.3, inplace=False)\n",
      "  (fc3): Linear(in_features=32, out_features=1, bias=True)\n",
      "  (sigmoid): Sigmoid()\n",
      ")\n"
     ]
    }
   ],
   "source": [
    "# Instantiate the model, define the loss function and the optimizer\n",
    "if 'X_train_tensor' in locals():\n",
    "    # Get the input dimension (number of features)\n",
    "    input_dim = X_train_tensor.shape[1]\n",
    "\n",
    "    # Instantiate the model\n",
    "    model = BinaryClassifier(input_dim)\n",
    "\n",
    "    print(\"Neural Network Architecture:\")\n",
    "    print(model)"
   ]
  },
  {
   "cell_type": "code",
   "execution_count": 39,
   "id": "bb0c70ad",
   "metadata": {},
   "outputs": [
    {
     "name": "stdout",
     "output_type": "stream",
     "text": [
      "Epoch [10/100], Loss: 0.5967\n",
      "Epoch [20/100], Loss: 0.5297\n",
      "Epoch [30/100], Loss: 0.4795\n",
      "Epoch [40/100], Loss: 0.4433\n",
      "Epoch [50/100], Loss: 0.4252\n",
      "Epoch [60/100], Loss: 0.4150\n",
      "Epoch [70/100], Loss: 0.4068\n",
      "Epoch [80/100], Loss: 0.4050\n",
      "Epoch [90/100], Loss: 0.4034\n",
      "Epoch [100/100], Loss: 0.3960\n",
      "\n",
      "Finished Training\n"
     ]
    }
   ],
   "source": [
    "# Train the model\n",
    "import torch.optim as optim\n",
    "if 'model' in locals() and 'X_train_tensor' in locals() and 'y_train_tensor' in locals() and 'device' in locals():\n",
    "    # Define loss function and optimizer\n",
    "    criterion = nn.BCELoss()  # Binary Cross-Entropy Loss for binary classification\n",
    "    optimizer = optim.Adam(model.parameters(), lr=0.001)  # Adam optimizer with a learning rate of 0.001\n",
    "\n",
    "    # Move model and data to the device (GPU or CPU)\n",
    "    model.to(device)\n",
    "    X_train_tensor = X_train_tensor.to(device)\n",
    "    y_train_tensor = y_train_tensor.to(device)\n",
    "\n",
    "    # Training loop\n",
    "    epochs = 100  # Number of training iterations\n",
    "    for epoch in range(epochs):\n",
    "        # Forward pass\n",
    "        outputs = model(X_train_tensor)\n",
    "        loss = criterion(outputs, y_train_tensor)\n",
    "\n",
    "        # Backward and optimize\n",
    "        optimizer.zero_grad()  # Clear previous gradients\n",
    "        loss.backward()        # Calculate gradients\n",
    "        optimizer.step()       # Update model weights\n",
    "\n",
    "        # Print training progress\n",
    "        if (epoch + 1) % 10 == 0:\n",
    "            print(f'Epoch [{epoch+1}/{epochs}], Loss: {loss.item():.4f}')\n",
    "\n",
    "    print('\\nFinished Training')"
   ]
  },
  {
   "cell_type": "code",
   "execution_count": null,
   "id": "496b1910",
   "metadata": {},
   "outputs": [
    {
     "name": "stdout",
     "output_type": "stream",
     "text": [
      "\n",
      "Evaluation:\n",
      "Accuracy on the test set: 0.8550\n"
     ]
    }
   ],
   "source": [
    "# Evaluate the model\n",
    "\n",
    "if 'model' in locals() and 'X_test_tensor' in locals() and 'y_test_tensor' in locals() and 'device' in locals():\n",
    "  \n",
    "    model.eval()\n",
    "    X_test_tensor = X_test_tensor.to(device)\n",
    "    y_test_tensor = y_test_tensor.to(device)\n",
    "\n",
    "  \n",
    "    with torch.no_grad():\n",
    "        # Forward pass\n",
    "        outputs = model(X_test_tensor)\n",
    "        predicted_probs = outputs.squeeze()\n",
    "        predicted_labels = (predicted_probs > 0.5).float() \n",
    "\n",
    "        # Calculate accuracy\n",
    "        correct_predictions = (predicted_labels == y_test_tensor.squeeze()).sum().item()\n",
    "        total_samples = y_test_tensor.size(0)\n",
    "        accuracy = correct_predictions / total_samples\n",
    "\n",
    "        print(f'\\nEvaluation:')\n",
    "        print(f'Accuracy on the test set: {accuracy:.4f}')\n",
    "\n",
    "else:\n",
    "    print(\"Error: Make sure the model, X_test_tensor, y_test_tensor, and device are defined before evaluation.\")"
   ]
  }
 ],
 "metadata": {
  "kernelspec": {
   "display_name": "Python 3",
   "language": "python",
   "name": "python3"
  },
  "language_info": {
   "codemirror_mode": {
    "name": "ipython",
    "version": 3
   },
   "file_extension": ".py",
   "mimetype": "text/x-python",
   "name": "python",
   "nbconvert_exporter": "python",
   "pygments_lexer": "ipython3",
   "version": "3.13.0"
  }
 },
 "nbformat": 4,
 "nbformat_minor": 5
}
